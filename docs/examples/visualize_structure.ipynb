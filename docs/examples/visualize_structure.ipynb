{
 "cells": [
  {
   "cell_type": "code",
   "execution_count": null,
   "metadata": {},
   "outputs": [],
   "source": [
    "import Pkg\n",
    "Pkg.activate(\".\")\n",
    "\n",
    "using BiochemicalVisualization\n",
    "using BiochemicalAlgorithms"
   ]
  },
  {
   "cell_type": "code",
   "execution_count": null,
   "metadata": {},
   "outputs": [],
   "source": [
    "fdb = FragmentDB()\n",
    "AlaAla = load_pdb(ball_data_path(\"../test/data/AlaAla.pdb\"))\n",
    "normalize_names!(AlaAla, fdb);\n",
    "build_bonds!(AlaAla, fdb);\n",
    "reconstruct_fragments!(AlaAla, fdb);"
   ]
  },
  {
   "cell_type": "code",
   "execution_count": null,
   "metadata": {},
   "outputs": [],
   "source": [
    "ball_and_stick(AlaAla)"
   ]
  }
 ],
 "metadata": {
  "kernelspec": {
   "display_name": "Julia 1.8.5",
   "language": "julia",
   "name": "julia-1.8"
  },
  "language_info": {
   "file_extension": ".jl",
   "mimetype": "application/julia",
   "name": "julia",
   "version": "1.8.5"
  }
 },
 "nbformat": 4,
 "nbformat_minor": 2
}
